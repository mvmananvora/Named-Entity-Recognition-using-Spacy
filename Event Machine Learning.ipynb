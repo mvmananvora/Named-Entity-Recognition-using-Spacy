{
 "cells": [
  {
   "cell_type": "code",
   "execution_count": 1,
   "metadata": {},
   "outputs": [],
   "source": [
    "import pandas as pd"
   ]
  },
  {
   "cell_type": "code",
   "execution_count": 2,
   "metadata": {},
   "outputs": [],
   "source": [
    "fileloc = r'C:\\Users\\mvman\\Downloads\\acc_manualCoding.xlsx'\n",
    "df = pd.read_excel(fileloc)\n",
    "\n",
    "df.drop(columns = ['Unnamed: 0','Unnamed: 0.1'],inplace = True)"
   ]
  },
  {
   "cell_type": "code",
   "execution_count": 3,
   "metadata": {},
   "outputs": [
    {
     "data": {
      "text/html": [
       "<div>\n",
       "<style scoped>\n",
       "    .dataframe tbody tr th:only-of-type {\n",
       "        vertical-align: middle;\n",
       "    }\n",
       "\n",
       "    .dataframe tbody tr th {\n",
       "        vertical-align: top;\n",
       "    }\n",
       "\n",
       "    .dataframe thead th {\n",
       "        text-align: right;\n",
       "    }\n",
       "</style>\n",
       "<table border=\"1\" class=\"dataframe\">\n",
       "  <thead>\n",
       "    <tr style=\"text-align: right;\">\n",
       "      <th></th>\n",
       "      <th>Events</th>\n",
       "      <th>EventCoding</th>\n",
       "      <th>Matched_word</th>\n",
       "      <th>Description</th>\n",
       "      <th>clean_text</th>\n",
       "      <th>Accuracy</th>\n",
       "      <th>parAccuracy</th>\n",
       "      <th>ManualCoder</th>\n",
       "      <th>Accuracy(1 acc, 0 error)</th>\n",
       "    </tr>\n",
       "  </thead>\n",
       "  <tbody>\n",
       "    <tr>\n",
       "      <th>0</th>\n",
       "      <td>candlelight vigil</td>\n",
       "      <td>0</td>\n",
       "      <td>Candlelight vigil</td>\n",
       "      <td>A candlelight vigil or candlelit vigil is an o...</td>\n",
       "      <td>candlelight vigil candlelit vigil outdoor asse...</td>\n",
       "      <td>100</td>\n",
       "      <td>100</td>\n",
       "      <td>YL</td>\n",
       "      <td>1.0</td>\n",
       "    </tr>\n",
       "  </tbody>\n",
       "</table>\n",
       "</div>"
      ],
      "text/plain": [
       "              Events  EventCoding       Matched_word  \\\n",
       "0  candlelight vigil            0  Candlelight vigil   \n",
       "\n",
       "                                         Description  \\\n",
       "0  A candlelight vigil or candlelit vigil is an o...   \n",
       "\n",
       "                                          clean_text  Accuracy  parAccuracy  \\\n",
       "0  candlelight vigil candlelit vigil outdoor asse...       100          100   \n",
       "\n",
       "  ManualCoder  Accuracy(1 acc, 0 error)  \n",
       "0          YL                       1.0  "
      ]
     },
     "execution_count": 3,
     "metadata": {},
     "output_type": "execute_result"
    }
   ],
   "source": [
    "df.head(1)"
   ]
  },
  {
   "cell_type": "code",
   "execution_count": 4,
   "metadata": {},
   "outputs": [],
   "source": [
    "text_to_add = ' conference day activism movement events annual symposium sexual aware awareness movements event protest'"
   ]
  },
  {
   "cell_type": "code",
   "execution_count": 5,
   "metadata": {},
   "outputs": [],
   "source": [
    "for i in range(0,len(df)):\n",
    "    if(df.loc[i,'EventCoding'] == 1):\n",
    "        if(type(df.loc[i,'clean_text']) == str):\n",
    "            df.loc[i,'clean_text'] += text_to_add"
   ]
  },
  {
   "cell_type": "code",
   "execution_count": 6,
   "metadata": {},
   "outputs": [],
   "source": [
    "dfone = df[df.EventCoding == 1]\n",
    "dfzero = df[df.EventCoding == 0]\n",
    "\n",
    "dfone = dfone.reset_index()\n",
    "dfone.drop(columns = ['index'],inplace = True)\n",
    "\n",
    "all_text_one = ''\n",
    "for i in range(0,len(dfone)):\n",
    "    all_text_one += str(dfone.loc[i,'clean_text'])"
   ]
  },
  {
   "cell_type": "code",
   "execution_count": 7,
   "metadata": {},
   "outputs": [
    {
     "data": {
      "text/plain": [
       "((378, 9), (317, 9))"
      ]
     },
     "execution_count": 7,
     "metadata": {},
     "output_type": "execute_result"
    }
   ],
   "source": [
    "dfone.shape,dfzero.shape"
   ]
  },
  {
   "cell_type": "code",
   "execution_count": 8,
   "metadata": {},
   "outputs": [],
   "source": [
    "from sklearn.model_selection import train_test_split\n",
    "from sklearn.feature_extraction.text import TfidfVectorizer\n",
    "from sklearn.naive_bayes import MultinomialNB\n",
    "from sklearn.metrics import classification_report,f1_score, accuracy_score, confusion_matrix, roc_curve, auc, roc_auc_score\n",
    "from sklearn import svm"
   ]
  },
  {
   "cell_type": "code",
   "execution_count": 9,
   "metadata": {},
   "outputs": [],
   "source": [
    "x = df[\"clean_text\"]\n",
    "y = df['EventCoding']\n",
    "#y = eventsdf[\"Accuracy(1 acc, 0 error)\"]\n",
    "x_train, x_test,y_train, y_test = train_test_split(x,y,test_size = 0.2)\n",
    "\n",
    "tfidf_vectorizer = TfidfVectorizer(use_idf=True)\n",
    "X_train_vectors_tfidf = tfidf_vectorizer.fit_transform(x_train.values.astype('U')) \n",
    "X_test_vectors_tfidf = tfidf_vectorizer.transform(x_test.values.astype('U'))"
   ]
  },
  {
   "cell_type": "markdown",
   "metadata": {},
   "source": [
    "### MB "
   ]
  },
  {
   "cell_type": "code",
   "execution_count": 10,
   "metadata": {},
   "outputs": [
    {
     "name": "stdout",
     "output_type": "stream",
     "text": [
      "              precision    recall  f1-score   support\n",
      "\n",
      "           0       0.89      0.28      0.43        60\n",
      "           1       0.64      0.97      0.77        79\n",
      "\n",
      "    accuracy                           0.68       139\n",
      "   macro avg       0.77      0.63      0.60       139\n",
      "weighted avg       0.75      0.68      0.63       139\n",
      "\n",
      "Confusion Matrix: [[17 43]\n",
      " [ 2 77]]\n",
      "MB Accuracy Score ->  67.62589928057554\n"
     ]
    }
   ],
   "source": [
    "nb_tfidf = MultinomialNB()\n",
    "nb_tfidf.fit(X_train_vectors_tfidf, y_train)  \n",
    "\n",
    "#Predict y value for test dataset\n",
    "y_predict = nb_tfidf.predict(X_test_vectors_tfidf)\n",
    "y_prob = nb_tfidf.predict_proba(X_test_vectors_tfidf)[:,1]\n",
    "\n",
    "print(classification_report(y_test,y_predict))\n",
    "print('Confusion Matrix:',confusion_matrix(y_test, y_predict))\n",
    " \n",
    "#fpr, tpr, thresholds = roc_curve(y_test, y_prob)\n",
    "#roc_auc = auc(fpr, tpr)\n",
    "#print('AUC:', roc_auc)\n",
    "\n",
    "print(\"MB Accuracy Score -> \",accuracy_score(y_predict, y_test)*100)"
   ]
  },
  {
   "cell_type": "markdown",
   "metadata": {},
   "source": [
    "### SVM"
   ]
  },
  {
   "cell_type": "code",
   "execution_count": 11,
   "metadata": {},
   "outputs": [
    {
     "name": "stdout",
     "output_type": "stream",
     "text": [
      "SVM Accuracy Score ->  89.20863309352518\n"
     ]
    }
   ],
   "source": [
    "SVM = svm.SVC(C=1.0, kernel='linear', gamma='auto')\n",
    "SVM.fit(X_train_vectors_tfidf,y_train)\n",
    "# predict the labels on validation dataset\n",
    "predictions_SVM = SVM.predict(X_test_vectors_tfidf)\n",
    "# Use accuracy_score function to get the accuracy\n",
    "print(\"SVM Accuracy Score -> \",accuracy_score(predictions_SVM, y_test)*100)"
   ]
  },
  {
   "cell_type": "markdown",
   "metadata": {},
   "source": [
    "### KNN "
   ]
  },
  {
   "cell_type": "code",
   "execution_count": 12,
   "metadata": {},
   "outputs": [],
   "source": [
    "from sklearn.neighbors import KNeighborsClassifier"
   ]
  },
  {
   "cell_type": "code",
   "execution_count": 13,
   "metadata": {},
   "outputs": [
    {
     "name": "stdout",
     "output_type": "stream",
     "text": [
      "KNN Accuracy Score ->  66.18705035971223\n"
     ]
    }
   ],
   "source": [
    "modelknn = KNeighborsClassifier(n_neighbors=3)\n",
    "modelknn.fit(X_train_vectors_tfidf,y_train)\n",
    "# predict the labels on validation dataset\n",
    "predictions_KNN = modelknn.predict(X_test_vectors_tfidf)\n",
    "# Use accuracy_score function to get the accuracy\n",
    "print(\"KNN Accuracy Score -> \",accuracy_score(predictions_KNN, y_test)*100)"
   ]
  },
  {
   "cell_type": "markdown",
   "metadata": {},
   "source": [
    "### XGBoost"
   ]
  },
  {
   "cell_type": "code",
   "execution_count": 14,
   "metadata": {},
   "outputs": [],
   "source": [
    "import xgboost as xgb"
   ]
  },
  {
   "cell_type": "code",
   "execution_count": 15,
   "metadata": {},
   "outputs": [
    {
     "name": "stdout",
     "output_type": "stream",
     "text": [
      "XGB Accuracy Score ->  95.68345323741008\n"
     ]
    }
   ],
   "source": [
    "xgb_cl = xgb.XGBClassifier()\n",
    "xgb_cl.fit(X_train_vectors_tfidf,y_train)\n",
    "\n",
    "xgb_cl.predict(X_test_vectors_tfidf)\n",
    "print(\"XGB Accuracy Score -> \",accuracy_score(xgb_cl.predict(X_test_vectors_tfidf), y_test)*100)"
   ]
  },
  {
   "cell_type": "code",
   "execution_count": 16,
   "metadata": {},
   "outputs": [],
   "source": [
    "cm = confusion_matrix(y_test, predictions_SVM)"
   ]
  },
  {
   "cell_type": "code",
   "execution_count": 17,
   "metadata": {},
   "outputs": [
    {
     "data": {
      "text/plain": [
       "Text(69.0, 0.5, 'Truth')"
      ]
     },
     "execution_count": 17,
     "metadata": {},
     "output_type": "execute_result"
    },
    {
     "data": {
      "image/png": "[encoded data removed]",
      "text/plain": [
       "<Figure size 720x504 with 2 Axes>"
      ]
     },
     "metadata": {
      "needs_background": "light"
     },
     "output_type": "display_data"
    }
   ],
   "source": [
    "import seaborn as sn\n",
    "from matplotlib import pyplot as plt\n",
    "%matplotlib inline\n",
    "plt.figure(figsize=(10,7))\n",
    "sn.heatmap(cm,annot=True)\n",
    "plt.xlabel('Predicted')\n",
    "plt.ylabel('Truth')"
   ]
  },
  {
   "cell_type": "code",
   "execution_count": 18,
   "metadata": {},
   "outputs": [],
   "source": [
    "#Text Preprocessing\n",
    "import re, string\n",
    "import nltk\n",
    "from nltk.tokenize import word_tokenize\n",
    "from nltk.corpus import stopwords\n",
    "from nltk.tokenize import word_tokenize\n",
    "from nltk.stem import SnowballStemmer\n",
    "from nltk.corpus import wordnet\n",
    "from nltk.stem import WordNetLemmatizer"
   ]
  },
  {
   "cell_type": "code",
   "execution_count": 19,
   "metadata": {},
   "outputs": [],
   "source": [
    "#convert to lowercase, strip and remove punctuations\n",
    "def preprocess(text):\n",
    "    text = text.lower() \n",
    "    text=text.strip()  \n",
    "    text=re.compile('<.*?>').sub('', text) \n",
    "    text = re.compile('[%s]' % re.escape(string.punctuation)).sub(' ', text)  \n",
    "    text = re.sub('\\s+', ' ', text)  \n",
    "    text = re.sub(r'\\[[0-9]*\\]',' ',text) \n",
    "    text=re.sub(r'[^\\w\\s]', '', str(text).lower().strip())\n",
    "    text = re.sub(r'\\d',' ',text) \n",
    "    text = re.sub(r'\\s+',' ',text) \n",
    "    return text\n",
    "\n",
    " \n",
    "# STOPWORD REMOVAL\n",
    "def stopword(string):\n",
    "    a= [i for i in string.split() if i not in stopwords.words('english')]\n",
    "    return ' '.join(a)\n",
    "#LEMMATIZATION\n",
    "# Initialize the lemmatizer\n",
    "wl = WordNetLemmatizer()\n",
    " \n",
    "# This is a helper function to map NTLK position tags\n",
    "def get_wordnet_pos(tag):\n",
    "    if tag.startswith('J'):\n",
    "        return wordnet.ADJ\n",
    "    elif tag.startswith('V'):\n",
    "        return wordnet.VERB\n",
    "    elif tag.startswith('N'):\n",
    "        return wordnet.NOUN\n",
    "    elif tag.startswith('R'):\n",
    "        return wordnet.ADV\n",
    "    else:\n",
    "        return wordnet.NOUN\n",
    "# Tokenize the sentence\n",
    "def lemmatizer(string):\n",
    "    word_pos_tags = nltk.pos_tag(word_tokenize(string)) # Get position tags\n",
    "    a=[wl.lemmatize(tag[0], get_wordnet_pos(tag[1])) for idx, tag in enumerate(word_pos_tags)] # Map the position tag and lemmatize the word/token\n",
    "    return \" \".join(a)"
   ]
  },
  {
   "cell_type": "code",
   "execution_count": 20,
   "metadata": {},
   "outputs": [],
   "source": [
    "def finalpreprocess(string):\n",
    "    return lemmatizer(stopword(preprocess(string)))"
   ]
  },
  {
   "cell_type": "code",
   "execution_count": 21,
   "metadata": {},
   "outputs": [],
   "source": [
    "import wikipedia"
   ]
  },
  {
   "cell_type": "code",
   "execution_count": 22,
   "metadata": {},
   "outputs": [
    {
     "data": {
      "text/plain": [
       "(array([1], dtype=int64), array([1], dtype=int64), array([0]))"
      ]
     },
     "execution_count": 22,
     "metadata": {},
     "output_type": "execute_result"
    }
   ],
   "source": [
    "#text = wikipedia.summary(wikipedia.search('Black Life Matter')[0])\n",
    "text = wikipedia.summary('FIFA World Cup')\n",
    "ct = finalpreprocess(text)\n",
    "ct = [ct]\n",
    "test_vector = tfidf_vectorizer.transform(ct)\n",
    "\n",
    "SVM.predict(test_vector),nb_tfidf.predict(test_vector),xgb_cl.predict(test_vector)"
   ]
  },
  {
   "cell_type": "code",
   "execution_count": 23,
   "metadata": {},
   "outputs": [
    {
     "data": {
      "text/plain": [
       "['FIFA World Cup',\n",
       " '2022 FIFA World Cup',\n",
       " '2018 FIFA World Cup',\n",
       " '2014 FIFA World Cup',\n",
       " '2010 FIFA World Cup',\n",
       " '2026 FIFA World Cup',\n",
       " '2006 FIFA World Cup',\n",
       " '2002 FIFA World Cup',\n",
       " '2030 FIFA World Cup',\n",
       " 'List of FIFA World Cup finals']"
      ]
     },
     "execution_count": 23,
     "metadata": {},
     "output_type": "execute_result"
    }
   ],
   "source": [
    "wikipedia.search('Fifa World Cup')"
   ]
  },
  {
   "cell_type": "code",
   "execution_count": 24,
   "metadata": {},
   "outputs": [
    {
     "data": {
      "text/plain": [
       "\"The FIFA World Cup, often simply called the World Cup, is an international association football competition contested by the senior men's national teams of the members of the Fédération Internationale de Football Association (FIFA), the sport's global governing body. The championship has been awarded every four years since the inaugural tournament in 1930, except in 1942 and 1946 when it was not held because of the Second World War. The current champion is France, which won its second title at the 2018 tournament in Russia.\\nThe current format involves a qualification phase, which takes place over the preceding three years, to determine which teams qualify for the tournament phase. In the tournament phase, 32 teams, including the automatically qualifying host nation(s), compete for the title at venues within the host nation(s) over about a month.\\nAs of the 2018 FIFA World Cup, twenty-one final tournaments have been held and a total of 79 national teams have competed. The trophy has been won by eight national teams. Brazil have won five times, and they are the only team to have played in every tournament. The other World Cup winners are Germany and Italy, with four titles each; Argentina, France, and inaugural winner Uruguay, with two titles each; and England and Spain, with one title each.\\nThe World Cup is the most prestigious association football tournament in the world, as well as the most widely viewed and followed single sporting event in the world. The cumulative viewership of all matches of the 2006 World Cup was estimated to be 26.29 billion with an estimated 715.1 million people watching the final match, a ninth of the entire population of the planet.17 countries have hosted the World Cup. Brazil, France, Italy, Germany, and Mexico have each hosted twice, while Uruguay, Switzerland, Sweden, Chile, England, Argentina, Spain, the United States, Japan and South Korea (jointly), South Africa, and Russia have each hosted once. Qatar will host the 2022 tournament, and 2026 will be jointly hosted by Canada, the United States, and Mexico, which will give Mexico the distinction of being the first country to host games in three World Cups.\""
      ]
     },
     "execution_count": 24,
     "metadata": {},
     "output_type": "execute_result"
    }
   ],
   "source": [
    "wikipedia.summary('FIFA World Cup')"
   ]
  },
  {
   "cell_type": "code",
   "execution_count": 25,
   "metadata": {},
   "outputs": [],
   "source": [
    "# ct"
   ]
  },
  {
   "cell_type": "code",
   "execution_count": 26,
   "metadata": {},
   "outputs": [
    {
     "data": {
      "text/html": [
       "<div>\n",
       "<style scoped>\n",
       "    .dataframe tbody tr th:only-of-type {\n",
       "        vertical-align: middle;\n",
       "    }\n",
       "\n",
       "    .dataframe tbody tr th {\n",
       "        vertical-align: top;\n",
       "    }\n",
       "\n",
       "    .dataframe thead th {\n",
       "        text-align: right;\n",
       "    }\n",
       "</style>\n",
       "<table border=\"1\" class=\"dataframe\">\n",
       "  <thead>\n",
       "    <tr style=\"text-align: right;\">\n",
       "      <th></th>\n",
       "      <th>Events</th>\n",
       "      <th>EventCoding</th>\n",
       "      <th>Matched_word</th>\n",
       "      <th>Description</th>\n",
       "      <th>clean_text</th>\n",
       "      <th>Accuracy</th>\n",
       "      <th>parAccuracy</th>\n",
       "      <th>ManualCoder</th>\n",
       "      <th>Accuracy(1 acc, 0 error)</th>\n",
       "    </tr>\n",
       "  </thead>\n",
       "  <tbody>\n",
       "    <tr>\n",
       "      <th>0</th>\n",
       "      <td>candlelight vigil</td>\n",
       "      <td>0</td>\n",
       "      <td>Candlelight vigil</td>\n",
       "      <td>A candlelight vigil or candlelit vigil is an o...</td>\n",
       "      <td>candlelight vigil candlelit vigil outdoor asse...</td>\n",
       "      <td>100</td>\n",
       "      <td>100</td>\n",
       "      <td>YL</td>\n",
       "      <td>1.0</td>\n",
       "    </tr>\n",
       "    <tr>\n",
       "      <th>1</th>\n",
       "      <td>der human rights day</td>\n",
       "      <td>1</td>\n",
       "      <td>Universal Declaration of Human Rights</td>\n",
       "      <td>The Universal Declaration of Human Rights (UDH...</td>\n",
       "      <td>universal declaration human right udhr interna...</td>\n",
       "      <td>56</td>\n",
       "      <td>72</td>\n",
       "      <td>YL</td>\n",
       "      <td>0.0</td>\n",
       "    </tr>\n",
       "    <tr>\n",
       "      <th>2</th>\n",
       "      <td>#16days of activism</td>\n",
       "      <td>1</td>\n",
       "      <td>PE 16 days of activism</td>\n",
       "      <td>16 Days of Activism Against Gender-Based Viole...</td>\n",
       "      <td>day activism gender base violence internationa...</td>\n",
       "      <td>88</td>\n",
       "      <td>95</td>\n",
       "      <td>YL</td>\n",
       "      <td>1.0</td>\n",
       "    </tr>\n",
       "    <tr>\n",
       "      <th>3</th>\n",
       "      <td>a policy dialogue</td>\n",
       "      <td>0</td>\n",
       "      <td>Centre for Policy Dialogue</td>\n",
       "      <td>The Centre for Policy Dialogue (CPD), establis...</td>\n",
       "      <td>centre policy dialogue cpd establish rehman so...</td>\n",
       "      <td>74</td>\n",
       "      <td>94</td>\n",
       "      <td>YL</td>\n",
       "      <td>0.0</td>\n",
       "    </tr>\n",
       "    <tr>\n",
       "      <th>4</th>\n",
       "      <td>clear challenge 16</td>\n",
       "      <td>0</td>\n",
       "      <td>The Challenge: Total Madness</td>\n",
       "      <td>The Challenge: Total Madness is the thirty-fif...</td>\n",
       "      <td>challenge total madness thirty fifth season mt...</td>\n",
       "      <td>52</td>\n",
       "      <td>67</td>\n",
       "      <td>YL</td>\n",
       "      <td>0.0</td>\n",
       "    </tr>\n",
       "    <tr>\n",
       "      <th>5</th>\n",
       "      <td>11 documentary</td>\n",
       "      <td>0</td>\n",
       "      <td>The Documentary</td>\n",
       "      <td>The Documentary is the debut studio album by A...</td>\n",
       "      <td>documentary debut studio album american rapper...</td>\n",
       "      <td>83</td>\n",
       "      <td>86</td>\n",
       "      <td>YL</td>\n",
       "      <td>0.0</td>\n",
       "    </tr>\n",
       "    <tr>\n",
       "      <th>6</th>\n",
       "      <td>a parent-principal meeting</td>\n",
       "      <td>0</td>\n",
       "      <td>The Parent Trap (1998 film)</td>\n",
       "      <td>The Parent Trap is a 1998 American romantic co...</td>\n",
       "      <td>parent trap american romantic comedy film dire...</td>\n",
       "      <td>42</td>\n",
       "      <td>43</td>\n",
       "      <td>YL</td>\n",
       "      <td>0.0</td>\n",
       "    </tr>\n",
       "    <tr>\n",
       "      <th>7</th>\n",
       "      <td>fest</td>\n",
       "      <td>0</td>\n",
       "      <td>Fest</td>\n",
       "      <td>A banquet (; French: [bɑ̃kɛ]) is a formal larg...</td>\n",
       "      <td>banquet french bɑkɛ formal large meal feast nu...</td>\n",
       "      <td>100</td>\n",
       "      <td>100</td>\n",
       "      <td>YL</td>\n",
       "      <td>0.0</td>\n",
       "    </tr>\n",
       "    <tr>\n",
       "      <th>8</th>\n",
       "      <td>the day of silence</td>\n",
       "      <td>1</td>\n",
       "      <td>Day of Silence</td>\n",
       "      <td>Day of Silence is GLSEN's annual day of action...</td>\n",
       "      <td>day silence glsen annual day action spread awa...</td>\n",
       "      <td>88</td>\n",
       "      <td>100</td>\n",
       "      <td>YL</td>\n",
       "      <td>1.0</td>\n",
       "    </tr>\n",
       "    <tr>\n",
       "      <th>9</th>\n",
       "      <td>symposium</td>\n",
       "      <td>0</td>\n",
       "      <td>Symposium</td>\n",
       "      <td>In ancient Greece, the symposium (Greek: συμπό...</td>\n",
       "      <td>ancient greece symposium greek συμπόσιον sympo...</td>\n",
       "      <td>100</td>\n",
       "      <td>100</td>\n",
       "      <td>YL</td>\n",
       "      <td>1.0</td>\n",
       "    </tr>\n",
       "    <tr>\n",
       "      <th>10</th>\n",
       "      <td>soil not oil conference</td>\n",
       "      <td>1</td>\n",
       "      <td>Safflower</td>\n",
       "      <td>Safflower, Carthamus tinctorius, is a highly b...</td>\n",
       "      <td>safflower carthamus tinctorius highly branch h...</td>\n",
       "      <td>25</td>\n",
       "      <td>33</td>\n",
       "      <td>YL</td>\n",
       "      <td>0.0</td>\n",
       "    </tr>\n",
       "    <tr>\n",
       "      <th>11</th>\n",
       "      <td>the du the dream duathlon</td>\n",
       "      <td>1</td>\n",
       "      <td>FIFA World Cup</td>\n",
       "      <td>The FIFA World Cup, often simply called the Wo...</td>\n",
       "      <td>fifa world cup often simply call world cup int...</td>\n",
       "      <td>15</td>\n",
       "      <td>22</td>\n",
       "      <td>YL</td>\n",
       "      <td>0.0</td>\n",
       "    </tr>\n",
       "    <tr>\n",
       "      <th>12</th>\n",
       "      <td>international women's health and human rights</td>\n",
       "      <td>0</td>\n",
       "      <td>Sexual and reproductive health and rights</td>\n",
       "      <td>\"Women's rights are human rights\" is a phrase ...</td>\n",
       "      <td>woman right human right phrase use feminist mo...</td>\n",
       "      <td>56</td>\n",
       "      <td>58</td>\n",
       "      <td>YL</td>\n",
       "      <td>0.0</td>\n",
       "    </tr>\n",
       "    <tr>\n",
       "      <th>13</th>\n",
       "      <td>the national seminar for inclusion #inclusion ...</td>\n",
       "      <td>1</td>\n",
       "      <td>PE the national seminary for inclusion inclusi...</td>\n",
       "      <td>The American Baptist Churches USA (ABCUSA) is ...</td>\n",
       "      <td>american baptist church usa abcusa mainline ba...</td>\n",
       "      <td>92</td>\n",
       "      <td>95</td>\n",
       "      <td>YL</td>\n",
       "      <td>0.0</td>\n",
       "    </tr>\n",
       "    <tr>\n",
       "      <th>14</th>\n",
       "      <td>in the heart of the beast</td>\n",
       "      <td>0</td>\n",
       "      <td>PE in the hearts of the beasts</td>\n",
       "      <td>Arthur Paul Alexakis (born April 12, 1962) is ...</td>\n",
       "      <td>arthur paul alexakis bear april american music...</td>\n",
       "      <td>91</td>\n",
       "      <td>96</td>\n",
       "      <td>YL</td>\n",
       "      <td>0.0</td>\n",
       "    </tr>\n",
       "    <tr>\n",
       "      <th>15</th>\n",
       "      <td>#basketball-college-liga</td>\n",
       "      <td>0</td>\n",
       "      <td>List of basketball leagues</td>\n",
       "      <td>This is a list of current and defunct basketba...</td>\n",
       "      <td>list current defunct basketball league around ...</td>\n",
       "      <td>56</td>\n",
       "      <td>65</td>\n",
       "      <td>YL</td>\n",
       "      <td>0.0</td>\n",
       "    </tr>\n",
       "    <tr>\n",
       "      <th>16</th>\n",
       "      <td>#aapa2013</td>\n",
       "      <td>0</td>\n",
       "      <td>Badi Aapa</td>\n",
       "      <td>Bari Aapa (Lit: Older Sister)is an Urdu langua...</td>\n",
       "      <td>bari aapa light old sister urdu language pakis...</td>\n",
       "      <td>44</td>\n",
       "      <td>57</td>\n",
       "      <td>YL</td>\n",
       "      <td>0.0</td>\n",
       "    </tr>\n",
       "    <tr>\n",
       "      <th>17</th>\n",
       "      <td>miss homophobia 2015</td>\n",
       "      <td>0</td>\n",
       "      <td>Hedwig von Beverfoerde</td>\n",
       "      <td>Baroness Hedwig von Elverfeldt gennant Beverfo...</td>\n",
       "      <td>baroness hedwig von elverfeldt gennant beverfo...</td>\n",
       "      <td>19</td>\n",
       "      <td>21</td>\n",
       "      <td>YL</td>\n",
       "      <td>0.0</td>\n",
       "    </tr>\n",
       "    <tr>\n",
       "      <th>18</th>\n",
       "      <td>world conference on women</td>\n",
       "      <td>1</td>\n",
       "      <td>World Conference on Women, 1995</td>\n",
       "      <td>The Fourth World Conference on Women: Action f...</td>\n",
       "      <td>fourth world conference woman action equality ...</td>\n",
       "      <td>89</td>\n",
       "      <td>100</td>\n",
       "      <td>YL</td>\n",
       "      <td>1.0</td>\n",
       "    </tr>\n",
       "    <tr>\n",
       "      <th>19</th>\n",
       "      <td>v-day</td>\n",
       "      <td>1</td>\n",
       "      <td>DE Victory over Japan Day</td>\n",
       "      <td>Victory over Japan Day (also known as V-J Day,...</td>\n",
       "      <td>victory japan day also know v j day victory pa...</td>\n",
       "      <td>27</td>\n",
       "      <td>60</td>\n",
       "      <td>YL</td>\n",
       "      <td>0.0</td>\n",
       "    </tr>\n",
       "  </tbody>\n",
       "</table>\n",
       "</div>"
      ],
      "text/plain": [
       "                                               Events  EventCoding  \\\n",
       "0                                   candlelight vigil            0   \n",
       "1                                der human rights day            1   \n",
       "2                                 #16days of activism            1   \n",
       "3                                   a policy dialogue            0   \n",
       "4                                  clear challenge 16            0   \n",
       "5                                      11 documentary            0   \n",
       "6                          a parent-principal meeting            0   \n",
       "7                                                fest            0   \n",
       "8                                  the day of silence            1   \n",
       "9                                           symposium            0   \n",
       "10                            soil not oil conference            1   \n",
       "11                          the du the dream duathlon            1   \n",
       "12      international women's health and human rights            0   \n",
       "13  the national seminar for inclusion #inclusion ...            1   \n",
       "14                          in the heart of the beast            0   \n",
       "15                           #basketball-college-liga            0   \n",
       "16                                          #aapa2013            0   \n",
       "17                               miss homophobia 2015            0   \n",
       "18                          world conference on women            1   \n",
       "19                                              v-day            1   \n",
       "\n",
       "                                         Matched_word  \\\n",
       "0                                   Candlelight vigil   \n",
       "1               Universal Declaration of Human Rights   \n",
       "2                              PE 16 days of activism   \n",
       "3                          Centre for Policy Dialogue   \n",
       "4                        The Challenge: Total Madness   \n",
       "5                                     The Documentary   \n",
       "6                         The Parent Trap (1998 film)   \n",
       "7                                                Fest   \n",
       "8                                      Day of Silence   \n",
       "9                                           Symposium   \n",
       "10                                          Safflower   \n",
       "11                                     FIFA World Cup   \n",
       "12          Sexual and reproductive health and rights   \n",
       "13  PE the national seminary for inclusion inclusi...   \n",
       "14                     PE in the hearts of the beasts   \n",
       "15                         List of basketball leagues   \n",
       "16                                          Badi Aapa   \n",
       "17                             Hedwig von Beverfoerde   \n",
       "18                    World Conference on Women, 1995   \n",
       "19                          DE Victory over Japan Day   \n",
       "\n",
       "                                          Description  \\\n",
       "0   A candlelight vigil or candlelit vigil is an o...   \n",
       "1   The Universal Declaration of Human Rights (UDH...   \n",
       "2   16 Days of Activism Against Gender-Based Viole...   \n",
       "3   The Centre for Policy Dialogue (CPD), establis...   \n",
       "4   The Challenge: Total Madness is the thirty-fif...   \n",
       "5   The Documentary is the debut studio album by A...   \n",
       "6   The Parent Trap is a 1998 American romantic co...   \n",
       "7   A banquet (; French: [bɑ̃kɛ]) is a formal larg...   \n",
       "8   Day of Silence is GLSEN's annual day of action...   \n",
       "9   In ancient Greece, the symposium (Greek: συμπό...   \n",
       "10  Safflower, Carthamus tinctorius, is a highly b...   \n",
       "11  The FIFA World Cup, often simply called the Wo...   \n",
       "12  \"Women's rights are human rights\" is a phrase ...   \n",
       "13  The American Baptist Churches USA (ABCUSA) is ...   \n",
       "14  Arthur Paul Alexakis (born April 12, 1962) is ...   \n",
       "15  This is a list of current and defunct basketba...   \n",
       "16  Bari Aapa (Lit: Older Sister)is an Urdu langua...   \n",
       "17  Baroness Hedwig von Elverfeldt gennant Beverfo...   \n",
       "18  The Fourth World Conference on Women: Action f...   \n",
       "19  Victory over Japan Day (also known as V-J Day,...   \n",
       "\n",
       "                                           clean_text  Accuracy  parAccuracy  \\\n",
       "0   candlelight vigil candlelit vigil outdoor asse...       100          100   \n",
       "1   universal declaration human right udhr interna...        56           72   \n",
       "2   day activism gender base violence internationa...        88           95   \n",
       "3   centre policy dialogue cpd establish rehman so...        74           94   \n",
       "4   challenge total madness thirty fifth season mt...        52           67   \n",
       "5   documentary debut studio album american rapper...        83           86   \n",
       "6   parent trap american romantic comedy film dire...        42           43   \n",
       "7   banquet french bɑkɛ formal large meal feast nu...       100          100   \n",
       "8   day silence glsen annual day action spread awa...        88          100   \n",
       "9   ancient greece symposium greek συμπόσιον sympo...       100          100   \n",
       "10  safflower carthamus tinctorius highly branch h...        25           33   \n",
       "11  fifa world cup often simply call world cup int...        15           22   \n",
       "12  woman right human right phrase use feminist mo...        56           58   \n",
       "13  american baptist church usa abcusa mainline ba...        92           95   \n",
       "14  arthur paul alexakis bear april american music...        91           96   \n",
       "15  list current defunct basketball league around ...        56           65   \n",
       "16  bari aapa light old sister urdu language pakis...        44           57   \n",
       "17  baroness hedwig von elverfeldt gennant beverfo...        19           21   \n",
       "18  fourth world conference woman action equality ...        89          100   \n",
       "19  victory japan day also know v j day victory pa...        27           60   \n",
       "\n",
       "   ManualCoder  Accuracy(1 acc, 0 error)  \n",
       "0           YL                       1.0  \n",
       "1           YL                       0.0  \n",
       "2           YL                       1.0  \n",
       "3           YL                       0.0  \n",
       "4           YL                       0.0  \n",
       "5           YL                       0.0  \n",
       "6           YL                       0.0  \n",
       "7           YL                       0.0  \n",
       "8           YL                       1.0  \n",
       "9           YL                       1.0  \n",
       "10          YL                       0.0  \n",
       "11          YL                       0.0  \n",
       "12          YL                       0.0  \n",
       "13          YL                       0.0  \n",
       "14          YL                       0.0  \n",
       "15          YL                       0.0  \n",
       "16          YL                       0.0  \n",
       "17          YL                       0.0  \n",
       "18          YL                       1.0  \n",
       "19          YL                       0.0  "
      ]
     },
     "execution_count": 26,
     "metadata": {},
     "output_type": "execute_result"
    }
   ],
   "source": [
    "df.head(20)"
   ]
  }
 ],
 "metadata": {
  "kernelspec": {
   "display_name": "Python 3",
   "language": "python",
   "name": "python3"
  },
  "language_info": {
   "codemirror_mode": {
    "name": "ipython",
    "version": 3
   },
   "file_extension": ".py",
   "mimetype": "text/x-python",
   "name": "python",
   "nbconvert_exporter": "python",
   "pygments_lexer": "ipython3",
   "version": "3.7.6"
  }
 },
 "nbformat": 4,
 "nbformat_minor": 4
}
